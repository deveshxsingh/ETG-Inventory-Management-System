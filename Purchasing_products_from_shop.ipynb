{
  "nbformat": 4,
  "nbformat_minor": 0,
  "metadata": {
    "colab": {
      "name": "Purchasing products from shop",
      "provenance": []
    },
    "kernelspec": {
      "name": "python3",
      "display_name": "Python 3"
    },
    "language_info": {
      "name": "python"
    }
  },
  "cells": [
    {
      "cell_type": "code",
      "metadata": {
        "id": "fV-6SX9WyhhR"
      },
      "source": [
        "import json"
      ],
      "execution_count": 12,
      "outputs": []
    },
    {
      "cell_type": "code",
      "metadata": {
        "id": "spmEUuTKzsqn"
      },
      "source": [
        "fd = open(\"shop.json\",'r')\n",
        "r = fd.read()\n",
        "fd.close()\n",
        "\n",
        "shops = json.loads(r)"
      ],
      "execution_count": 13,
      "outputs": []
    },
    {
      "cell_type": "code",
      "metadata": {
        "id": "ZpyuOYcrz-oE"
      },
      "source": [
        "shops"
      ],
      "execution_count": null,
      "outputs": []
    },
    {
      "cell_type": "code",
      "metadata": {
        "colab": {
          "base_uri": "https://localhost:8080/"
        },
        "id": "m7E2sO0X0B3l",
        "outputId": "554ce21c-f97e-461a-9a2e-0ccbe8bf5aab"
      },
      "source": [
        "ui_prod = str(input(\"Enter the product id you want to buy : \"))\n",
        "ui_quant = int(input(\"Enter the quantity you want to buy : \"))\n",
        "\n",
        "print(\"Product name is \" ,shops[ui_prod][\"Product Name\"])\n",
        "print(\"Price is \" , shops[ui_prod][\"price\"])\n",
        "print(\"Weight of item is  \" , shops[ui_prod][\"weight(gm)\"])\n",
        "print(\"Category is \" , shops[ui_prod][\"Category\"])\n",
        "print(\"Quantity of item is \" , shops[ui_prod][\"Quantity\"])\n",
        "\n",
        "print(\"Your Billing Amount is \", shops[ui_prod]['price'] * ui_quant)\n",
        "\n",
        "shops[ui_prod]['Quantity'] = shops[ui_prod]['Quantity'] - ui_quant"
      ],
      "execution_count": 72,
      "outputs": [
        {
          "output_type": "stream",
          "name": "stdout",
          "text": [
            "Enter the product id you want to buy : 109\n",
            "Enter the quantity you want to buy : 11\n",
            "Product name is  Milky Way\n",
            "Price is  5\n",
            "Weight of item is   15\n",
            "Category is  Sweet\n",
            "Quantity of item is  40\n",
            "Your Billing Amount is  55\n"
          ]
        }
      ]
    },
    {
      "cell_type": "markdown",
      "metadata": {
        "id": "nM5vHRyjA3WP"
      },
      "source": [
        "**Updating** **inventory** **file**"
      ]
    },
    {
      "cell_type": "code",
      "metadata": {
        "id": "yB5jiUsT9N7h"
      },
      "source": [
        "js = json.dumps(shops)\n",
        "\n",
        "fd = open(\"shop.json\" , 'w')\n",
        "fd.write(js)\n",
        "fd.close()"
      ],
      "execution_count": 17,
      "outputs": []
    },
    {
      "cell_type": "code",
      "metadata": {
        "id": "ig9lf_JfHWGP"
      },
      "source": [
        "shops"
      ],
      "execution_count": null,
      "outputs": []
    },
    {
      "cell_type": "markdown",
      "metadata": {
        "id": "8IGzUcPiBFVG"
      },
      "source": [
        "**Sales (json file)**"
      ]
    },
    {
      "cell_type": "code",
      "metadata": {
        "colab": {
          "base_uri": "https://localhost:8080/"
        },
        "id": "QN5zml1xBDtA",
        "outputId": "d9c52474-da9b-4cc7-8031-0326c55a172a"
      },
      "source": [
        "{'Product Id' : ui_prod, 'Quant' : ui_quant, 'Amount' : shops[ui_prod]['price'] * ui_quant}"
      ],
      "execution_count": 26,
      "outputs": [
        {
          "output_type": "execute_result",
          "data": {
            "text/plain": [
              "{'Amount': 30, 'Product Id': '105', 'Quant': 6}"
            ]
          },
          "metadata": {},
          "execution_count": 26
        }
      ]
    },
    {
      "cell_type": "code",
      "metadata": {
        "id": "Wm_yi2NSISBo"
      },
      "source": [
        "sales = { 1 :{'Product Id' : ui_prod, 'Quant' : ui_quant, 'Amount' : shops[ui_prod]['price'] * ui_quant} \n",
        "    \n",
        "}"
      ],
      "execution_count": 33,
      "outputs": []
    },
    {
      "cell_type": "code",
      "metadata": {
        "colab": {
          "base_uri": "https://localhost:8080/"
        },
        "id": "xhpjzrmWIsgI",
        "outputId": "f83f6edd-e9bd-4294-bf52-9cafb2ac52a1"
      },
      "source": [
        "{(len(sales) + 1) :{'Product Id' : ui_prod, 'Quant' : ui_quant, 'Amount' : shops[ui_prod]['price'] * ui_quant}} "
      ],
      "execution_count": 31,
      "outputs": [
        {
          "output_type": "execute_result",
          "data": {
            "text/plain": [
              "{2: {'Amount': 30, 'Product Id': '105', 'Quant': 6}}"
            ]
          },
          "metadata": {},
          "execution_count": 31
        }
      ]
    },
    {
      "cell_type": "code",
      "metadata": {
        "id": "wsKXlBQOKVy6"
      },
      "source": [
        "sales[(len(sales) + 1)] = {'Product Id' : ui_prod, 'Quant' : ui_quant, 'Amount' : shops[ui_prod]['price'] * ui_quant}"
      ],
      "execution_count": 73,
      "outputs": []
    },
    {
      "cell_type": "code",
      "metadata": {
        "colab": {
          "base_uri": "https://localhost:8080/"
        },
        "id": "gx9kDy0CLATv",
        "outputId": "0d6d5a22-8a58-4f33-b024-35688e67331c"
      },
      "source": [
        "sales"
      ],
      "execution_count": 74,
      "outputs": [
        {
          "output_type": "execute_result",
          "data": {
            "text/plain": [
              "{1: {'Amount': 30, 'Product Id': '105', 'Quant': 6},\n",
              " 2: {'Amount': 30, 'Product Id': '105', 'Quant': 6},\n",
              " 3: {'Amount': 30, 'Product Id': '105', 'Quant': 6},\n",
              " 4: {'Amount': 120, 'Product Id': '111', 'Quant': 3},\n",
              " 5: {'Amount': 90, 'Product Id': '129', 'Quant': 9},\n",
              " 6: {'Amount': 90, 'Product Id': '129', 'Quant': 9},\n",
              " 7: {'Amount': 90, 'Product Id': '129', 'Quant': 9},\n",
              " 8: {'Amount': 70, 'Product Id': '125', 'Quant': 7},\n",
              " 9: {'Amount': 200, 'Product Id': '117', 'Quant': 5},\n",
              " 10: {'Amount': 160, 'Product Id': '116', 'Quant': 4},\n",
              " 11: {'Amount': 30, 'Product Id': '128', 'Quant': 3},\n",
              " 12: {'Amount': 480, 'Product Id': '117', 'Quant': 12},\n",
              " 13: {'Amount': 55, 'Product Id': '109', 'Quant': 11}}"
            ]
          },
          "metadata": {},
          "execution_count": 74
        }
      ]
    },
    {
      "cell_type": "code",
      "metadata": {
        "id": "tmueBzKSLBmZ"
      },
      "source": [
        "sale = json.dumps(sales)"
      ],
      "execution_count": 76,
      "outputs": []
    },
    {
      "cell_type": "code",
      "metadata": {
        "id": "rWawhcU7NdMB"
      },
      "source": [
        "fd = open(\"sales.json\" , 'w')\n",
        "fd.write(sale)\n",
        "fd.close()"
      ],
      "execution_count": 77,
      "outputs": []
    }
  ]
}