{
  "nbformat": 4,
  "nbformat_minor": 0,
  "metadata": {
    "colab": {
      "name": "Adding Fresh Products to inventory",
      "provenance": [],
      "collapsed_sections": []
    },
    "kernelspec": {
      "name": "python3",
      "display_name": "Python 3"
    },
    "language_info": {
      "name": "python"
    }
  },
  "cells": [
    {
      "cell_type": "code",
      "metadata": {
        "id": "N_zuuzAyK47c"
      },
      "source": [
        "import json"
      ],
      "execution_count": 7,
      "outputs": []
    },
    {
      "cell_type": "code",
      "metadata": {
        "id": "9YIrY5vdJf5H"
      },
      "source": [
        "fd = open(\"shop.json\",'r')\n",
        "r= fd.read()\n",
        "fd.close()\n",
        "\n",
        "shop = json.loads(r)"
      ],
      "execution_count": 8,
      "outputs": []
    },
    {
      "cell_type": "code",
      "metadata": {
        "id": "OO2pz_LlLA-T"
      },
      "source": [
        "shop"
      ],
      "execution_count": null,
      "outputs": []
    },
    {
      "cell_type": "markdown",
      "metadata": {
        "id": "POCFOLkkLKdU"
      },
      "source": [
        "Add new products to inventory\n"
      ]
    },
    {
      "cell_type": "code",
      "metadata": {
        "id": "tLNRMna7LPSb",
        "colab": {
          "base_uri": "https://localhost:8080/"
        },
        "outputId": "584de60f-47ad-464f-db23-0978c3835c85"
      },
      "source": [
        "prod_id = str(input(\"Enter the product id : \"))\n",
        "name  =str(input(\"Enter the name of product : \"))\n",
        "pr = int(input(\"Enter the price of product : \"))\n",
        "wg = str(input(\"Enter the weight of product : \"))\n",
        "ctg = str(input(\"Enter the category of product : \"))\n",
        "qn = str(input(\"Enter the quantity of product : \"))\n",
        "\n",
        "shop[prod_id] = {\"Product Name\":name,\"price\":pr,\"weight(gm)\":wg,\"Category\":ctg,\"Quantity\":qn}\n",
        "\n",
        "js = json.dumps(shop)\n",
        "\n",
        "fd = open(\"shop.json\",'w')\n",
        "fd.write(js)\n",
        "fd.close()\n"
      ],
      "execution_count": 13,
      "outputs": [
        {
          "name": "stdout",
          "output_type": "stream",
          "text": [
            "Enter the product id : 132\n",
            "Enter the name of product : The Indian Latte\n",
            "Enter the price of product : 25\n",
            "Enter the weight of product : 30\n",
            "Enter the category of product : Drink\n",
            "Enter the quantity of product : 55\n"
          ]
        }
      ]
    },
    {
      "cell_type": "code",
      "metadata": {
        "colab": {
          "base_uri": "https://localhost:8080/"
        },
        "id": "LT6ZGQ3kxmb8",
        "outputId": "d9a4c59f-9cf1-48b9-8828-393762ca7ea6"
      },
      "source": [
        "shop"
      ],
      "execution_count": 14,
      "outputs": [
        {
          "output_type": "execute_result",
          "data": {
            "text/plain": [
              "{'101': {'Category': 'Sweet',\n",
              "  'Product Name': 'Kit Kat',\n",
              "  'Quantity': 40,\n",
              "  'price': 5,\n",
              "  'weight(gm)': 15},\n",
              " '102': {'Category': 'Sweet',\n",
              "  'Product Name': 'Dairy Milk',\n",
              "  'Quantity': 40,\n",
              "  'price': 5,\n",
              "  'weight(gm)': 15},\n",
              " '103': {'Category': 'Sweet',\n",
              "  'Product Name': '5 star',\n",
              "  'Quantity': 40,\n",
              "  'price': 5,\n",
              "  'weight(gm)': 15},\n",
              " '104': {'Category': 'Sweet',\n",
              "  'Product Name': 'Snicker',\n",
              "  'Quantity': 40,\n",
              "  'price': 5,\n",
              "  'weight(gm)': 15},\n",
              " '105': {'Category': 'Sweet',\n",
              "  'Product Name': 'Perk',\n",
              "  'Quantity': 40,\n",
              "  'price': 5,\n",
              "  'weight(gm)': 15},\n",
              " '106': {'Category': 'Sweet',\n",
              "  'Product Name': 'Fuse',\n",
              "  'Quantity': 40,\n",
              "  'price': 5,\n",
              "  'weight(gm)': 15},\n",
              " '107': {'Category': 'Sweet',\n",
              "  'Product Name': 'Milky Bar',\n",
              "  'Quantity': 40,\n",
              "  'price': 5,\n",
              "  'weight(gm)': 15},\n",
              " '108': {'Category': 'Sweet',\n",
              "  'Product Name': 'Bar One',\n",
              "  'Quantity': 40,\n",
              "  'price': 5,\n",
              "  'weight(gm)': 15},\n",
              " '109': {'Category': 'Sweet',\n",
              "  'Product Name': 'Milky Way',\n",
              "  'Quantity': 40,\n",
              "  'price': 5,\n",
              "  'weight(gm)': 15},\n",
              " '110': {'Category': 'Sweet',\n",
              "  'Product Name': 'Cadbury',\n",
              "  'Quantity': 40,\n",
              "  'price': 5,\n",
              "  'weight(gm)': 15},\n",
              " '111': {'Category': 'Drink',\n",
              "  'Product Name': 'Sprite',\n",
              "  'Quantity': 30,\n",
              "  'price': 40,\n",
              "  'weight(gm)': 500},\n",
              " '112': {'Category': 'Drink',\n",
              "  'Product Name': 'Pepsi',\n",
              "  'Quantity': 30,\n",
              "  'price': 40,\n",
              "  'weight(gm)': 500},\n",
              " '113': {'Category': 'Drink',\n",
              "  'Product Name': 'Coca Cola',\n",
              "  'Quantity': 30,\n",
              "  'price': 40,\n",
              "  'weight(gm)': 500},\n",
              " '114': {'Category': 'Drink',\n",
              "  'Product Name': 'ThumpsUp',\n",
              "  'Quantity': 30,\n",
              "  'price': 40,\n",
              "  'weight(gm)': 500},\n",
              " '115': {'Category': 'Drink',\n",
              "  'Product Name': 'Dew',\n",
              "  'Quantity': 30,\n",
              "  'price': 40,\n",
              "  'weight(gm)': 500},\n",
              " '116': {'Category': 'Drink',\n",
              "  'Product Name': 'Mazza',\n",
              "  'Quantity': 30,\n",
              "  'price': 40,\n",
              "  'weight(gm)': 500},\n",
              " '117': {'Category': 'Drink',\n",
              "  'Product Name': 'Slice',\n",
              "  'Quantity': 30,\n",
              "  'price': 40,\n",
              "  'weight(gm)': 500},\n",
              " '118': {'Category': 'Drink',\n",
              "  'Product Name': 'Limca',\n",
              "  'Quantity': 30,\n",
              "  'price': 40,\n",
              "  'weight(gm)': 500},\n",
              " '119': {'Category': 'Drink',\n",
              "  'Product Name': 'Mirinda',\n",
              "  'Quantity': 30,\n",
              "  'price': 40,\n",
              "  'weight(gm)': 500},\n",
              " '120': {'Category': 'Drink',\n",
              "  'Product Name': 'Fanta',\n",
              "  'Quantity': 30,\n",
              "  'price': 40,\n",
              "  'weight(gm)': 500},\n",
              " '121': {'Category': 'Drink',\n",
              "  'Product Name': '7 UP',\n",
              "  'Quantity': 30,\n",
              "  'price': 40,\n",
              "  'weight(gm)': 500},\n",
              " '122': {'Category': 'Drink',\n",
              "  'Product Name': 'Real Juice',\n",
              "  'Quantity': 30,\n",
              "  'price': 40,\n",
              "  'weight(gm)': 500},\n",
              " '123': {'Category': 'Biscuit',\n",
              "  'Product Name': 'Oreo',\n",
              "  'Quantity': 50,\n",
              "  'price': 10,\n",
              "  'weight(gm)': 53},\n",
              " '124': {'Category': 'Biscuit',\n",
              "  'Product Name': 'Bourbon',\n",
              "  'Quantity': 50,\n",
              "  'price': 10,\n",
              "  'weight(gm)': 53},\n",
              " '125': {'Category': 'Biscuit',\n",
              "  'Product Name': 'Parle G',\n",
              "  'Quantity': 50,\n",
              "  'price': 10,\n",
              "  'weight(gm)': 53},\n",
              " '126': {'Category': 'Biscuit',\n",
              "  'Product Name': 'Good Day',\n",
              "  'Quantity': 50,\n",
              "  'price': 10,\n",
              "  'weight(gm)': 53},\n",
              " '127': {'Category': 'Biscuit',\n",
              "  'Product Name': 'Marie',\n",
              "  'Quantity': 50,\n",
              "  'price': 10,\n",
              "  'weight(gm)': 53},\n",
              " '128': {'Category': 'Biscuit',\n",
              "  'Product Name': 'Sunfeast',\n",
              "  'Quantity': 50,\n",
              "  'price': 10,\n",
              "  'weight(gm)': 53},\n",
              " '129': {'Category': 'Biscuit',\n",
              "  'Product Name': \"McVitie's\",\n",
              "  'Quantity': 50,\n",
              "  'price': 10,\n",
              "  'weight(gm)': 53},\n",
              " '130': {'Category': 'Biscuit',\n",
              "  'Product Name': 'Anmol',\n",
              "  'Quantity': 50,\n",
              "  'price': 10,\n",
              "  'weight(gm)': 53},\n",
              " '131': {'Category': 'Biscuit',\n",
              "  'Product Name': 'Butter cookies',\n",
              "  'Quantity': '35',\n",
              "  'price': 15,\n",
              "  'weight(gm)': '60'},\n",
              " '132': {'Category': 'Drink',\n",
              "  'Product Name': 'The Indian Latte',\n",
              "  'Quantity': '55',\n",
              "  'price': 25,\n",
              "  'weight(gm)': '30'}}"
            ]
          },
          "metadata": {},
          "execution_count": 14
        }
      ]
    },
    {
      "cell_type": "code",
      "metadata": {
        "id": "cUL5D1W4xpJf"
      },
      "source": [
        ""
      ],
      "execution_count": null,
      "outputs": []
    }
  ]
}